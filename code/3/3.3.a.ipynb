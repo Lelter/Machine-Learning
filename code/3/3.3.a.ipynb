{
 "cells": [
  {
   "cell_type": "code",
   "execution_count": 55,
   "metadata": {},
   "outputs": [
    {
     "data": {
      "text/html": [
       "<div>\n",
       "<style scoped>\n",
       "    .dataframe tbody tr th:only-of-type {\n",
       "        vertical-align: middle;\n",
       "    }\n",
       "\n",
       "    .dataframe tbody tr th {\n",
       "        vertical-align: top;\n",
       "    }\n",
       "\n",
       "    .dataframe thead th {\n",
       "        text-align: right;\n",
       "    }\n",
       "</style>\n",
       "<table border=\"1\" class=\"dataframe\">\n",
       "  <thead>\n",
       "    <tr style=\"text-align: right;\">\n",
       "      <th></th>\n",
       "      <th>编号</th>\n",
       "      <th>密度</th>\n",
       "      <th>含糖率</th>\n",
       "      <th>好瓜</th>\n",
       "    </tr>\n",
       "  </thead>\n",
       "  <tbody>\n",
       "    <tr>\n",
       "      <th>0</th>\n",
       "      <td>1</td>\n",
       "      <td>0.697</td>\n",
       "      <td>0.4600</td>\n",
       "      <td>1</td>\n",
       "    </tr>\n",
       "    <tr>\n",
       "      <th>1</th>\n",
       "      <td>2</td>\n",
       "      <td>0.774</td>\n",
       "      <td>0.3760</td>\n",
       "      <td>1</td>\n",
       "    </tr>\n",
       "    <tr>\n",
       "      <th>2</th>\n",
       "      <td>3</td>\n",
       "      <td>0.634</td>\n",
       "      <td>0.2640</td>\n",
       "      <td>1</td>\n",
       "    </tr>\n",
       "    <tr>\n",
       "      <th>3</th>\n",
       "      <td>4</td>\n",
       "      <td>0.608</td>\n",
       "      <td>0.3180</td>\n",
       "      <td>1</td>\n",
       "    </tr>\n",
       "    <tr>\n",
       "      <th>4</th>\n",
       "      <td>5</td>\n",
       "      <td>0.556</td>\n",
       "      <td>0.2150</td>\n",
       "      <td>1</td>\n",
       "    </tr>\n",
       "    <tr>\n",
       "      <th>5</th>\n",
       "      <td>6</td>\n",
       "      <td>0.403</td>\n",
       "      <td>0.2370</td>\n",
       "      <td>1</td>\n",
       "    </tr>\n",
       "    <tr>\n",
       "      <th>6</th>\n",
       "      <td>7</td>\n",
       "      <td>0.481</td>\n",
       "      <td>0.1490</td>\n",
       "      <td>1</td>\n",
       "    </tr>\n",
       "    <tr>\n",
       "      <th>7</th>\n",
       "      <td>8</td>\n",
       "      <td>0.437</td>\n",
       "      <td>0.2110</td>\n",
       "      <td>1</td>\n",
       "    </tr>\n",
       "    <tr>\n",
       "      <th>8</th>\n",
       "      <td>9</td>\n",
       "      <td>0.666</td>\n",
       "      <td>0.0910</td>\n",
       "      <td>0</td>\n",
       "    </tr>\n",
       "    <tr>\n",
       "      <th>9</th>\n",
       "      <td>10</td>\n",
       "      <td>0.243</td>\n",
       "      <td>0.0267</td>\n",
       "      <td>0</td>\n",
       "    </tr>\n",
       "    <tr>\n",
       "      <th>10</th>\n",
       "      <td>11</td>\n",
       "      <td>0.245</td>\n",
       "      <td>0.0570</td>\n",
       "      <td>0</td>\n",
       "    </tr>\n",
       "    <tr>\n",
       "      <th>11</th>\n",
       "      <td>12</td>\n",
       "      <td>0.343</td>\n",
       "      <td>0.0990</td>\n",
       "      <td>0</td>\n",
       "    </tr>\n",
       "    <tr>\n",
       "      <th>12</th>\n",
       "      <td>13</td>\n",
       "      <td>0.639</td>\n",
       "      <td>0.1610</td>\n",
       "      <td>0</td>\n",
       "    </tr>\n",
       "    <tr>\n",
       "      <th>13</th>\n",
       "      <td>14</td>\n",
       "      <td>0.657</td>\n",
       "      <td>0.1980</td>\n",
       "      <td>0</td>\n",
       "    </tr>\n",
       "    <tr>\n",
       "      <th>14</th>\n",
       "      <td>15</td>\n",
       "      <td>0.360</td>\n",
       "      <td>0.3700</td>\n",
       "      <td>0</td>\n",
       "    </tr>\n",
       "    <tr>\n",
       "      <th>15</th>\n",
       "      <td>16</td>\n",
       "      <td>0.593</td>\n",
       "      <td>0.0420</td>\n",
       "      <td>0</td>\n",
       "    </tr>\n",
       "    <tr>\n",
       "      <th>16</th>\n",
       "      <td>17</td>\n",
       "      <td>0.719</td>\n",
       "      <td>0.1030</td>\n",
       "      <td>0</td>\n",
       "    </tr>\n",
       "  </tbody>\n",
       "</table>\n",
       "</div>"
      ],
      "text/plain": [
       "    编号     密度     含糖率  好瓜\n",
       "0    1  0.697  0.4600   1\n",
       "1    2  0.774  0.3760   1\n",
       "2    3  0.634  0.2640   1\n",
       "3    4  0.608  0.3180   1\n",
       "4    5  0.556  0.2150   1\n",
       "5    6  0.403  0.2370   1\n",
       "6    7  0.481  0.1490   1\n",
       "7    8  0.437  0.2110   1\n",
       "8    9  0.666  0.0910   0\n",
       "9   10  0.243  0.0267   0\n",
       "10  11  0.245  0.0570   0\n",
       "11  12  0.343  0.0990   0\n",
       "12  13  0.639  0.1610   0\n",
       "13  14  0.657  0.1980   0\n",
       "14  15  0.360  0.3700   0\n",
       "15  16  0.593  0.0420   0\n",
       "16  17  0.719  0.1030   0"
      ]
     },
     "execution_count": 55,
     "metadata": {},
     "output_type": "execute_result"
    }
   ],
   "source": [
    "import pandas as pd\n",
    "melon = pd.read_csv('3.0a.csv')\n",
    "melon\n"
   ]
  },
  {
   "cell_type": "code",
   "execution_count": 56,
   "metadata": {},
   "outputs": [
    {
     "data": {
      "text/plain": [
       "(array([[0.697 , 0.46  , 0.774 , 0.376 , 0.634 , 0.264 , 0.608 , 0.318 ,\n",
       "         0.556 , 0.215 , 0.403 , 0.237 , 0.481 , 0.149 , 0.437 , 0.211 ,\n",
       "         0.666 ],\n",
       "        [0.091 , 0.243 , 0.0267, 0.245 , 0.057 , 0.343 , 0.099 , 0.639 ,\n",
       "         0.161 , 0.657 , 0.198 , 0.36  , 0.37  , 0.593 , 0.042 , 0.719 ,\n",
       "         0.103 ]]),\n",
       " array([[1, 1, 1, 1, 1, 1, 1, 1, 0, 0, 0, 0, 0, 0, 0, 0, 0]], dtype=int64))"
      ]
     },
     "execution_count": 56,
     "metadata": {},
     "output_type": "execute_result"
    }
   ],
   "source": [
    "import numpy as np\n",
    "X = melon[['密度', '含糖率']].values\n",
    "y = melon['好瓜'].values\n",
    "#为了使数据形式符合需要演示需要，将其进行转置\n",
    "X = X.reshape([2,17])\n",
    "y = y.reshape([1,17])\n",
    "X,y"
   ]
  },
  {
   "cell_type": "code",
   "execution_count": 57,
   "metadata": {},
   "outputs": [],
   "source": [
    "'''\n",
    "initialize parameter\n",
    "'''\n",
    "\n",
    "\n",
    "def init_params():\n",
    "\t#根据X数据的形状来确定生成w和b\n",
    "    w = np.ones((2,1))\n",
    "    b = 0\n",
    "    return w, b\n",
    "\n",
    "\n",
    "'''\n",
    "sigmoid activation func\n",
    "'''\n",
    "\n",
    "\n",
    "def sigmoid(Z):\n",
    "    s = 1 / (1+np.exp(-Z))\n",
    "    return s\n"
   ]
  },
  {
   "cell_type": "code",
   "execution_count": 58,
   "metadata": {},
   "outputs": [],
   "source": [
    "'''\n",
    "forward prop and compute cost and back prop\n",
    "'''\n",
    "\n",
    "\n",
    "def f_prop(w, b, X, y):\n",
    "    m = X.shape[1]  # 一共有m个实例\n",
    "    A = sigmoid(np.dot(w.T, X) + b)\n",
    "    #计算cost函数\n",
    "    cost = -1/m * np.sum(y*np.log(A) + (1-y)*np.log(1-A))\n",
    "    #对w和b求导数\n",
    "    dw = 1/m * np.dot(X, (A-y).T)\n",
    "    db = 1/m * np.sum(A - y)\n",
    "    #组合到一个字典\n",
    "    grads = {'dw': dw, 'db': db}\n",
    "    return cost, grads\n",
    "\n",
    "\n",
    "'''\n",
    "optimize parameters--gradient descent\n",
    "'''\n",
    "\n",
    "\n",
    "def op_params(w, b, X, y, num_iter, learning_rate):\n",
    "    costs = []\n",
    "\n",
    "    for i in range(num_iter):\n",
    "        cost, grads = f_prop(w, b, X, y)\n",
    "        dw = grads['dw']\n",
    "        db = grads['db']\n",
    "        #参数最优化\n",
    "        w = w - learning_rate * dw\n",
    "        b = b - learning_rate * db\n",
    "        costs.append(cost)\n",
    "\n",
    "    params = {'w': w, 'b': b}\n",
    "\n",
    "    return costs, params\n"
   ]
  },
  {
   "cell_type": "code",
   "execution_count": 59,
   "metadata": {},
   "outputs": [],
   "source": [
    "'''\n",
    "predict\n",
    "'''\n",
    "\n",
    "\n",
    "def predict(params, X):\n",
    "    m = X.shape[1]\n",
    "    Y_prediction = np.zeros((1, m))\n",
    "\n",
    "    w = params['w']\n",
    "    b = params['b']\n",
    "    print(w,b)\n",
    "    A = sigmoid(np.dot(w.T, X)+b)\n",
    "    plt.plot()\n",
    "    print(A)\n",
    "    #大于0.5就是真，小于等于0.5就是假\n",
    "    for i in range(m):\n",
    "        if A[0, i] > 0.5:\n",
    "            Y_prediction[0, i] = 1\n",
    "        if A[0, i] <= 0.5:\n",
    "            Y_prediction[0, i] = 0\n",
    "    return Y_prediction\n"
   ]
  },
  {
   "cell_type": "code",
   "execution_count": 60,
   "metadata": {},
   "outputs": [
    {
     "name": "stdout",
     "output_type": "stream",
     "text": [
      "[[1.]\n",
      " [1.]] 0\n"
     ]
    },
    {
     "data": {
      "text/plain": [
       "[<matplotlib.lines.Line2D at 0x212fcc9be10>]"
      ]
     },
     "execution_count": 60,
     "metadata": {},
     "output_type": "execute_result"
    },
    {
     "data": {
      "image/png": "[encoded data removed]",
      "text/plain": [
       "<Figure size 432x288 with 1 Axes>"
      ]
     },
     "metadata": {
      "needs_background": "light"
     },
     "output_type": "display_data"
    }
   ],
   "source": [
    "import matplotlib.pyplot as plt\n",
    "%matplotlib inline\n",
    "'''\n",
    "merge all the func\n",
    "'''\n",
    "w, b = init_params()\n",
    "print(w,b)\n",
    "cost, grads = f_prop(w, b, X, y)\n",
    "costs, params = op_params(w, b, X, y, 10000, 0.9)\n",
    "plt.plot(costs)\n"
   ]
  },
  {
   "cell_type": "code",
   "execution_count": 61,
   "metadata": {},
   "outputs": [
    {
     "name": "stdout",
     "output_type": "stream",
     "text": [
      "[[5.11662264]\n",
      " [0.55397347]] -2.54361249534246\n",
      "[[0.74518317 0.4861659  0.80712629 0.38129886 0.67522268 0.26838906\n",
      "  0.65070452 0.36296055 0.59638366 0.25358587 0.40807552 0.24387655\n",
      "  0.5305751  0.18958186 0.42937992 0.25622203 0.71526974]]\n",
      "[[1. 0. 1. 0. 1. 0. 1. 0. 1. 0. 0. 0. 1. 0. 0. 0. 1.]]\n",
      "准确率是： 0.5882352941176471\n"
     ]
    },
    {
     "name": "stderr",
     "output_type": "stream",
     "text": [
      "D:\\python\\lib\\site-packages\\matplotlib\\backends\\backend_agg.py:238: RuntimeWarning: Glyph 8722 missing from current font.\n",
      "  font.set_text(s, 0.0, flags=flags)\n",
      "D:\\python\\lib\\site-packages\\matplotlib\\backends\\backend_agg.py:201: RuntimeWarning: Glyph 8722 missing from current font.\n",
      "  font.set_text(s, 0, flags=flags)\n"
     ]
    },
    {
     "data": {
      "image/png": "[encoded data removed]",
      "text/plain": [
       "<Figure size 432x288 with 1 Axes>"
      ]
     },
     "metadata": {
      "needs_background": "light"
     },
     "output_type": "display_data"
    }
   ],
   "source": [
    "'''\n",
    "make prediction\n",
    "'''\n",
    "Y_prediction = predict(params, X)\n",
    "print(Y_prediction)\n",
    "count = 0\n",
    "for i in range(X.shape[1]):\n",
    "    if Y_prediction[0, i] == y[0, i]:\n",
    "        count += 1\n",
    "\n",
    "precision = count/X.shape[1]\n",
    "print('准确率是：', precision)\n"
   ]
  }
 ],
 "metadata": {
  "interpreter": {
   "hash": "4eaf1be304415beee96765ae99c3f893cc8312c7f1196698e6029668e9aeb3e5"
  },
  "kernelspec": {
   "display_name": "Python 3.6.8 64-bit",
   "language": "python",
   "name": "python3"
  },
  "language_info": {
   "codemirror_mode": {
    "name": "ipython",
    "version": 3
   },
   "file_extension": ".py",
   "mimetype": "text/x-python",
   "name": "python",
   "nbconvert_exporter": "python",
   "pygments_lexer": "ipython3",
   "version": "3.6.8"
  },
  "orig_nbformat": 4
 },
 "nbformat": 4,
 "nbformat_minor": 2
}
