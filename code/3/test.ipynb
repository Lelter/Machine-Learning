{
 "cells": [
  {
   "cell_type": "code",
   "execution_count": 5,
   "metadata": {},
   "outputs": [
    {
     "name": "stdout",
     "output_type": "stream",
     "text": [
      "[[0.49611111 0.15422222]] [[0.57375 0.27875]]\n",
      "[[ 0.30332289 -0.05006522]\n",
      " [-0.05006522  0.09295756]] [[0.1168675 0.0718285]\n",
      " [0.0718285 0.0712995]]\n",
      "[[-0.14650982]\n",
      " [-0.73871557]]\n"
     ]
    },
    {
     "data": {
      "image/png": "[encoded data removed]",
      "text/plain": [
       "<Figure size 432x288 with 1 Axes>"
      ]
     },
     "metadata": {
      "needs_background": "light"
     },
     "output_type": "display_data"
    }
   ],
   "source": [
    "import numpy as np\n",
    "import matplotlib.pyplot as plt\n",
    "\n",
    "\n",
    "def getDataSet():\n",
    "    \"\"\"\n",
    "    get watermelon data set 3.0 alpha.\n",
    "    :return: (feature array, label array)\n",
    "    \"\"\"\n",
    "    dataSet = np.array([\n",
    "        [0.697, 0.460, 1],\n",
    "        [0.774, 0.376, 1],\n",
    "        [0.634, 0.264, 1],\n",
    "        [0.608, 0.318, 1],\n",
    "        [0.556, 0.215, 1],\n",
    "        [0.403, 0.237, 1],\n",
    "        [0.481, 0.149, 1],\n",
    "        [0.437, 0.211, 1],\n",
    "        [0.666, 0.091, 0],\n",
    "        [0.243, 0.267, 0],\n",
    "        [0.245, 0.057, 0],\n",
    "        [0.343, 0.099, 0],\n",
    "        [0.639, 0.161, 0],\n",
    "        [0.657, 0.198, 0],\n",
    "        [0.360, 0.370, 0],\n",
    "        [0.593, 0.042, 0],\n",
    "        [0.719, 0.103, 0]\n",
    "    ])\n",
    "\n",
    "    # # insert number 1 before column 0.\n",
    "    # e.g: dataSet[0] = [1, 0.697, 0.460, 1]\n",
    "    # dataSet = np.insert(dataSet, 0,\n",
    "    #                     np.ones(dataSet.shape[0]),\n",
    "    #                     axis=1)\n",
    "    dataArr = dataSet[:, :-1]\n",
    "    labelArr = dataSet[:, -1]\n",
    "    return dataArr, labelArr\n",
    "\n",
    "\n",
    "def LDA(dataArr, labelArr):\n",
    "    \"\"\"\n",
    "    Linear Discriminant Analysis\n",
    "    :param dataArr:\n",
    "    :param labelArr:\n",
    "    :return: parameter w\n",
    "    \"\"\"\n",
    "    # 0,1两类数据分开\n",
    "    data1 = dataArr[labelArr == 1]\n",
    "    data0 = dataArr[labelArr == 0]\n",
    "    # 求得两类数据的均值向量\n",
    "    mean0 = data0.mean(axis=0, keepdims=True)\n",
    "    mean1 = data1.mean(axis=0, keepdims=True)\n",
    "    print(mean0, mean1)\n",
    "    # 得到两种数据的协方差矩阵\n",
    "    diff1 = data1 - mean1\n",
    "    diff0 = data0 - mean0\n",
    "    cov1 = np.dot(diff1.T, diff1)\n",
    "    cov0 = np.dot(diff0.T, diff0)\n",
    "    print(cov0, cov1)\n",
    "    # 得到“类内散度矩阵”\n",
    "    sw = cov1 + cov0\n",
    "    # 求得参数w\n",
    "    swInv = np.linalg.inv(sw)\n",
    "    w = np.dot(swInv, mean0.T - mean1.T)\n",
    "    return w\n",
    "\n",
    "\n",
    "def main():\n",
    "    # test LDA()\n",
    "    dataArr, labelArr = getDataSet()\n",
    "    w = LDA(dataArr, labelArr)\n",
    "    print(w)\n",
    "    # plot data points\n",
    "    data1 = dataArr[labelArr == 1]\n",
    "    data0 = dataArr[labelArr == 0]\n",
    "    plt.scatter(data1[:, 0], data1[:, 1], label=\"class 1\")\n",
    "    plt.scatter(data0[:, 0], data0[:, 1], label=\"class 0\")\n",
    "    plt.xlabel(\"x1\")\n",
    "    plt.ylabel(\"x2\")\n",
    "    # plot line\n",
    "    w = w.flatten()\n",
    "    maxX1 = dataArr[:, 0].max()\n",
    "    minX1 = dataArr[:, 0].min()\n",
    "    x1 = np.linspace(maxX1-1, minX1+1, 102)\n",
    "    x2 = -w[0] * x1 / w[1]\n",
    "    plt.plot(x1, x2, label=\"LDA\")\n",
    "\n",
    "    plt.legend()\n",
    "    plt.show()\n",
    "\n",
    "\n",
    "if __name__ == '__main__':\n",
    "    main()\n"
   ]
  }
 ],
 "metadata": {
  "interpreter": {
   "hash": "fcf1d46d271c46101d6967829d4a5f475342a2ce08e4944f989fbcdc9bb23690"
  },
  "kernelspec": {
   "display_name": "Python 3.9.2 64-bit",
   "language": "python",
   "name": "python3"
  },
  "language_info": {
   "codemirror_mode": {
    "name": "ipython",
    "version": 3
   },
   "file_extension": ".py",
   "mimetype": "text/x-python",
   "name": "python",
   "nbconvert_exporter": "python",
   "pygments_lexer": "ipython3",
   "version": "3.9.2"
  },
  "orig_nbformat": 4
 },
 "nbformat": 4,
 "nbformat_minor": 2
}
