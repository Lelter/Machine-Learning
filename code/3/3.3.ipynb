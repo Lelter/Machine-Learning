{
 "cells": [
  {
   "cell_type": "markdown",
   "metadata": {},
   "source": [
    "[3.3]实现对率回归，给出西瓜数据集3.0a结果。"
   ]
  },
  {
   "cell_type": "code",
   "execution_count": 1,
   "metadata": {},
   "outputs": [
    {
     "data": {
      "text/html": [
       "<div>\n",
       "<style scoped>\n",
       "    .dataframe tbody tr th:only-of-type {\n",
       "        vertical-align: middle;\n",
       "    }\n",
       "\n",
       "    .dataframe tbody tr th {\n",
       "        vertical-align: top;\n",
       "    }\n",
       "\n",
       "    .dataframe thead th {\n",
       "        text-align: right;\n",
       "    }\n",
       "</style>\n",
       "<table border=\"1\" class=\"dataframe\">\n",
       "  <thead>\n",
       "    <tr style=\"text-align: right;\">\n",
       "      <th></th>\n",
       "      <th>编号</th>\n",
       "      <th>密度</th>\n",
       "      <th>含糖率</th>\n",
       "      <th>好瓜</th>\n",
       "    </tr>\n",
       "  </thead>\n",
       "  <tbody>\n",
       "    <tr>\n",
       "      <th>0</th>\n",
       "      <td>1</td>\n",
       "      <td>0.697</td>\n",
       "      <td>0.4600</td>\n",
       "      <td>1</td>\n",
       "    </tr>\n",
       "    <tr>\n",
       "      <th>1</th>\n",
       "      <td>2</td>\n",
       "      <td>0.774</td>\n",
       "      <td>0.3760</td>\n",
       "      <td>1</td>\n",
       "    </tr>\n",
       "    <tr>\n",
       "      <th>2</th>\n",
       "      <td>3</td>\n",
       "      <td>0.634</td>\n",
       "      <td>0.2640</td>\n",
       "      <td>1</td>\n",
       "    </tr>\n",
       "    <tr>\n",
       "      <th>3</th>\n",
       "      <td>4</td>\n",
       "      <td>0.608</td>\n",
       "      <td>0.3180</td>\n",
       "      <td>1</td>\n",
       "    </tr>\n",
       "    <tr>\n",
       "      <th>4</th>\n",
       "      <td>5</td>\n",
       "      <td>0.556</td>\n",
       "      <td>0.2150</td>\n",
       "      <td>1</td>\n",
       "    </tr>\n",
       "    <tr>\n",
       "      <th>5</th>\n",
       "      <td>6</td>\n",
       "      <td>0.403</td>\n",
       "      <td>0.2370</td>\n",
       "      <td>1</td>\n",
       "    </tr>\n",
       "    <tr>\n",
       "      <th>6</th>\n",
       "      <td>7</td>\n",
       "      <td>0.481</td>\n",
       "      <td>0.1490</td>\n",
       "      <td>1</td>\n",
       "    </tr>\n",
       "    <tr>\n",
       "      <th>7</th>\n",
       "      <td>8</td>\n",
       "      <td>0.437</td>\n",
       "      <td>0.2110</td>\n",
       "      <td>1</td>\n",
       "    </tr>\n",
       "    <tr>\n",
       "      <th>8</th>\n",
       "      <td>9</td>\n",
       "      <td>0.666</td>\n",
       "      <td>0.0910</td>\n",
       "      <td>0</td>\n",
       "    </tr>\n",
       "    <tr>\n",
       "      <th>9</th>\n",
       "      <td>10</td>\n",
       "      <td>0.243</td>\n",
       "      <td>0.0267</td>\n",
       "      <td>0</td>\n",
       "    </tr>\n",
       "    <tr>\n",
       "      <th>10</th>\n",
       "      <td>11</td>\n",
       "      <td>0.245</td>\n",
       "      <td>0.0570</td>\n",
       "      <td>0</td>\n",
       "    </tr>\n",
       "    <tr>\n",
       "      <th>11</th>\n",
       "      <td>12</td>\n",
       "      <td>0.343</td>\n",
       "      <td>0.0990</td>\n",
       "      <td>0</td>\n",
       "    </tr>\n",
       "    <tr>\n",
       "      <th>12</th>\n",
       "      <td>13</td>\n",
       "      <td>0.639</td>\n",
       "      <td>0.1610</td>\n",
       "      <td>0</td>\n",
       "    </tr>\n",
       "    <tr>\n",
       "      <th>13</th>\n",
       "      <td>14</td>\n",
       "      <td>0.657</td>\n",
       "      <td>0.1980</td>\n",
       "      <td>0</td>\n",
       "    </tr>\n",
       "    <tr>\n",
       "      <th>14</th>\n",
       "      <td>15</td>\n",
       "      <td>0.360</td>\n",
       "      <td>0.3700</td>\n",
       "      <td>0</td>\n",
       "    </tr>\n",
       "    <tr>\n",
       "      <th>15</th>\n",
       "      <td>16</td>\n",
       "      <td>0.593</td>\n",
       "      <td>0.0420</td>\n",
       "      <td>0</td>\n",
       "    </tr>\n",
       "    <tr>\n",
       "      <th>16</th>\n",
       "      <td>17</td>\n",
       "      <td>0.719</td>\n",
       "      <td>0.1030</td>\n",
       "      <td>0</td>\n",
       "    </tr>\n",
       "  </tbody>\n",
       "</table>\n",
       "</div>"
      ],
      "text/plain": [
       "    编号     密度     含糖率  好瓜\n",
       "0    1  0.697  0.4600   1\n",
       "1    2  0.774  0.3760   1\n",
       "2    3  0.634  0.2640   1\n",
       "3    4  0.608  0.3180   1\n",
       "4    5  0.556  0.2150   1\n",
       "5    6  0.403  0.2370   1\n",
       "6    7  0.481  0.1490   1\n",
       "7    8  0.437  0.2110   1\n",
       "8    9  0.666  0.0910   0\n",
       "9   10  0.243  0.0267   0\n",
       "10  11  0.245  0.0570   0\n",
       "11  12  0.343  0.0990   0\n",
       "12  13  0.639  0.1610   0\n",
       "13  14  0.657  0.1980   0\n",
       "14  15  0.360  0.3700   0\n",
       "15  16  0.593  0.0420   0\n",
       "16  17  0.719  0.1030   0"
      ]
     },
     "execution_count": 1,
     "metadata": {},
     "output_type": "execute_result"
    }
   ],
   "source": [
    "import pandas as pd\n",
    "dataset = pd.read_csv('3.0a.csv')\n",
    "dataset\n",
    "\n"
   ]
  },
  {
   "cell_type": "code",
   "execution_count": 2,
   "metadata": {},
   "outputs": [],
   "source": [
    "x = dataset[[\"密度\", \"含糖率\"]]\n",
    "y = dataset['好瓜']\n",
    "good_melon = dataset[dataset['好瓜'] == 1]\n",
    "bad_melon = dataset[dataset['好瓜'] == 0]"
   ]
  },
  {
   "cell_type": "code",
   "execution_count": 3,
   "metadata": {},
   "outputs": [
    {
     "name": "stdout",
     "output_type": "stream",
     "text": [
      "       密度     含糖率\n",
      "0   0.697  0.4600\n",
      "1   0.774  0.3760\n",
      "2   0.634  0.2640\n",
      "3   0.608  0.3180\n",
      "4   0.556  0.2150\n",
      "5   0.403  0.2370\n",
      "6   0.481  0.1490\n",
      "7   0.437  0.2110\n",
      "8   0.666  0.0910\n",
      "9   0.243  0.0267\n",
      "10  0.245  0.0570\n",
      "11  0.343  0.0990\n",
      "12  0.639  0.1610\n",
      "13  0.657  0.1980\n",
      "14  0.360  0.3700\n",
      "15  0.593  0.0420\n",
      "16  0.719  0.1030\n"
     ]
    },
    {
     "name": "stderr",
     "output_type": "stream",
     "text": [
      "D:\\python\\lib\\site-packages\\seaborn\\_decorators.py:43: FutureWarning: Pass the following variables as keyword args: x, y. From version 0.12, the only valid positional argument will be `data`, and passing other arguments without an explicit keyword will result in an error or misinterpretation.\n",
      "  FutureWarning\n",
      "D:\\python\\lib\\site-packages\\seaborn\\_decorators.py:43: FutureWarning: Pass the following variables as keyword args: x, y. From version 0.12, the only valid positional argument will be `data`, and passing other arguments without an explicit keyword will result in an error or misinterpretation.\n",
      "  FutureWarning\n"
     ]
    },
    {
     "data": {
      "text/plain": [
       "<matplotlib.legend.Legend at 0x1d1da719a20>"
      ]
     },
     "execution_count": 3,
     "metadata": {},
     "output_type": "execute_result"
    },
    {
     "data": {
      "image/png": "[encoded data removed]",
      "text/plain": [
       "<Figure size 432x288 with 1 Axes>"
      ]
     },
     "metadata": {},
     "output_type": "display_data"
    }
   ],
   "source": [
    "import matplotlib.pyplot as plt\n",
    "import seaborn as sns\n",
    "sns.set(style=\"white\", color_codes=True)\n",
    "plt.rcParams['font.sans-serif']=['SimHei'] #用来正常显示中文标签\n",
    "plt.rcParams['axes.unicode_minus'] = False #用来正常显示负号\n",
    "print(x)\n",
    "f1 = plt.figure(1)\n",
    "plt.title('watermalon')\n",
    "plt.xlabel('密度')\n",
    "plt.ylabel('含糖率')\n",
    "plt.xlim(0, 1)\n",
    "plt.ylim(0, 1)\n",
    "sns.scatterplot(bad_melon[\"密度\"], bad_melon[\"含糖率\"],\n",
    "            marker='o', color='r', s=100, label='bad')\n",
    "sns.scatterplot(good_melon[\"密度\"], good_melon[\"含糖率\"],\n",
    "            marker='o', color='b', s=100, label='good')\n",
    "plt.legend(loc='upper right')\n"
   ]
  },
  {
   "cell_type": "code",
   "execution_count": 4,
   "metadata": {},
   "outputs": [
    {
     "name": "stdout",
     "output_type": "stream",
     "text": [
      "       密度    含糖率\n",
      "7   0.437  0.211\n",
      "16  0.719  0.103\n",
      "11  0.343  0.099\n",
      "3   0.608  0.318\n",
      "0   0.697  0.460\n",
      "5   0.403  0.237\n",
      "15  0.593  0.042\n",
      "12  0.639  0.161        密度     含糖率\n",
      "1   0.774  0.3760\n",
      "6   0.481  0.1490\n",
      "8   0.666  0.0910\n",
      "9   0.243  0.0267\n",
      "13  0.657  0.1980\n",
      "4   0.556  0.2150\n",
      "2   0.634  0.2640\n",
      "14  0.360  0.3700\n",
      "10  0.245  0.0570\n"
     ]
    }
   ],
   "source": [
    "from sklearn.model_selection import train_test_split\n",
    "from sklearn.linear_model import LogisticRegression\n",
    "from sklearn import metrics\n",
    "\n",
    "X_train, X_test,Y_train,Y_test = train_test_split(\n",
    "    x, y, test_size=0.5, random_state=0)\n",
    "print(X_train, X_test)\n"
   ]
  },
  {
   "cell_type": "code",
   "execution_count": 7,
   "metadata": {},
   "outputs": [
    {
     "name": "stdout",
     "output_type": "stream",
     "text": [
      "[1 0 0 0 0 1 1 1 0]\n",
      "[[-0.07509754  0.39827223]]\n",
      "-0.07509754477001591 0.398272229035131\n"
     ]
    },
    {
     "name": "stderr",
     "output_type": "stream",
     "text": [
      "D:\\python\\lib\\site-packages\\seaborn\\_decorators.py:43: FutureWarning: Pass the following variables as keyword args: x, y. From version 0.12, the only valid positional argument will be `data`, and passing other arguments without an explicit keyword will result in an error or misinterpretation.\n",
      "  FutureWarning\n"
     ]
    },
    {
     "data": {
      "image/png": "[encoded data removed]",
      "text/plain": [
       "<Figure size 432x288 with 1 Axes>"
      ]
     },
     "metadata": {},
     "output_type": "display_data"
    }
   ],
   "source": [
    "import numpy as np\n",
    "\n",
    "\n",
    "def log_regression():\n",
    "    log_regression = LogisticRegression()\n",
    "    log_regression.fit(X_train, Y_train)\n",
    "    y_pred = log_regression.predict(X_test)\n",
    "    print(y_pred)\n",
    "    # print(metrics.confusion_matrix(Y_test, y_pred))\n",
    "    # print(metrics.classification_report(Y_test, y_pred))\n",
    "    print(log_regression.coef_)\n",
    "    theta1, theta2 = log_regression.coef_[0][0], log_regression.coef_[0][1]\n",
    "    print(theta1,theta2)\n",
    "    x_pred = np.linspace(0, 1, 100)\n",
    "    line_pred = theta1+theta2*x_pred\n",
    "    sns.lineplot(x_pred, line_pred)\n",
    "    plt.show()\n",
    "    pass\n",
    "\n",
    "\n",
    "log_regression()\n"
   ]
  }
 ],
 "metadata": {
  "interpreter": {
   "hash": "fcf1d46d271c46101d6967829d4a5f475342a2ce08e4944f989fbcdc9bb23690"
  },
  "kernelspec": {
   "display_name": "Python 3.9.2 64-bit",
   "language": "python",
   "name": "python3"
  },
  "language_info": {
   "codemirror_mode": {
    "name": "ipython",
    "version": 3
   },
   "file_extension": ".py",
   "mimetype": "text/x-python",
   "name": "python",
   "nbconvert_exporter": "python",
   "pygments_lexer": "ipython3",
   "version": "3.6.8"
  },
  "orig_nbformat": 4
 },
 "nbformat": 4,
 "nbformat_minor": 2
}
