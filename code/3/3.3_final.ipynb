{
 "cells": [
  {
   "cell_type": "code",
   "execution_count": 60,
   "metadata": {},
   "outputs": [],
   "source": [
    "#[3.3]实现对率回归，给出西瓜数据集3.0a结果。\n",
    "import csv\n",
    "import numpy as np\n",
    "from matplotlib import pyplot as plt\n"
   ]
  },
  {
   "cell_type": "code",
   "execution_count": 61,
   "metadata": {},
   "outputs": [],
   "source": [
    "\n",
    "class logodds_regress(object):\n",
    "\n",
    "    def sigmoid(self,z):\n",
    "        '''\n",
    "        @param z:beta * xi\n",
    "        '''\n",
    "        return 1/(1 + np.exp(-z))\n",
    "\n",
    "    def gradient_descent(self,xtrain,ytrain):\n",
    "        '''\n",
    "        梯度下降法求解beta\n",
    "        @param xtrain:(x,1) shape[N,d+1]\n",
    "        @param ytrain:label shape[N,1]\n",
    "        @return beta (w,b) shape [1,d+1]\n",
    "        '''\n",
    "        beta = np.ones((1,3)) * 0.1\n",
    "        z = np.dot(xtrain,beta.T)\n",
    "        learn_rate = 0.05\n",
    "        iter_max = 2000\n",
    "        for i in range(iter_max):\n",
    "            p1 = np.exp(z) / (1 + np.exp(z))\n",
    "            #shape [N, N]\n",
    "            p = np.diag((p1 * (1-p1)).reshape(-1))#生成对角阵\n",
    "            #shape [N, 1] 一阶导数\n",
    "            dl1 = -np.sum(xtrain * (ytrain - p1), 0, keepdims=True) #按列相加，保持矩阵的二维性\n",
    "            beta -= dl1 * learn_rate\n",
    "            z = np.dot(xtrain,beta.T)\n",
    "        return beta\n",
    "   \n",
    "    def model(self, xtrain, ytrain, solver='gradient_descent'):\n",
    "\n",
    "        if solver == 'gradient_descent':\n",
    "            return self.gradient_descent(xtrain,ytrain)\n",
    "        else:\n",
    "            raise ValueError('Unknown method {}'.format(solver))\n",
    "\n",
    "    def predict(self,beta,xtest):\n",
    "        '''\n",
    "        #我们以0.5为界，预测值y大于0.5则判断为好瓜，赋值1；反之判断为不是好瓜，赋值0 \n",
    "        '''\n",
    "        z = beta.dot(xtest.T)\n",
    "        ypredict = self.sigmoid(z)\n",
    "        ypredict[ypredict>0.5] = 1\n",
    "        ypredict[ypredict<=0.5] = 0\n",
    "        ypredict = ypredict.reshape(-1,1)\n",
    "        return ypredict\n",
    "\n",
    "def read_waremelon_data(filename):\n",
    "    '''\n",
    "    读取西瓜数据并转换\n",
    "    @param filename:数据文件\n",
    "    '''\n",
    "    with open(filename,newline='',encoding='utf-8') as csvfile:\n",
    "        data = csv.DictReader(csvfile)\n",
    "        judge_to_num = {'1':1,'0':0}\n",
    "        density = []     #密度\n",
    "        sugar_rate = []  #含糖率\n",
    "        y = []           #标签\n",
    "        for item in data:\n",
    "            density.append(float(item['密度']))\n",
    "            sugar_rate.append(float(item['含糖率']))\n",
    "            y.append(judge_to_num[item['好瓜']])\n",
    "    density = np.array(density)\n",
    "    sugar_rate = np.array(sugar_rate)\n",
    "    xtrain = np.hstack((density.reshape(-1,1),sugar_rate.reshape(-1,1)))\n",
    "    return (xtrain,y)\n",
    "    "
   ]
  },
  {
   "cell_type": "code",
   "execution_count": 62,
   "metadata": {},
   "outputs": [
    {
     "name": "stdout",
     "output_type": "stream",
     "text": [
      "[[0.697 0.46 ]\n",
      " [0.774 0.376]\n",
      " [0.634 0.264]\n",
      " [0.608 0.318]\n",
      " [0.556 0.215]\n",
      " [0.403 0.237]\n",
      " [0.481 0.149]\n",
      " [0.437 0.211]\n",
      " [0.666 0.091]\n",
      " [0.243 0.267]\n",
      " [0.245 0.057]\n",
      " [0.343 0.099]\n",
      " [0.639 0.161]\n",
      " [0.657 0.198]\n",
      " [0.36  0.37 ]\n",
      " [0.593 0.042]\n",
      " [0.719 0.103]] [1, 1, 1, 1, 1, 1, 1, 1, 0, 0, 0, 0, 0, 0, 0, 0, 0]\n"
     ]
    }
   ],
   "source": [
    "filename = '3.0a.csv'\n",
    "xtrain,y = read_waremelon_data(filename)\n",
    "print(xtrain,y)"
   ]
  },
  {
   "cell_type": "code",
   "execution_count": 63,
   "metadata": {},
   "outputs": [
    {
     "name": "stdout",
     "output_type": "stream",
     "text": [
      "[[0.666 0.091]\n",
      " [0.243 0.267]\n",
      " [0.245 0.057]\n",
      " [0.343 0.099]\n",
      " [0.639 0.161]\n",
      " [0.657 0.198]\n",
      " [0.36  0.37 ]\n",
      " [0.593 0.042]\n",
      " [0.719 0.103]]\n",
      "ypredict [[1.]\n",
      " [1.]\n",
      " [1.]\n",
      " [1.]\n",
      " [1.]\n",
      " [0.]\n",
      " [0.]\n",
      " [0.]\n",
      " [0.]\n",
      " [0.]\n",
      " [0.]\n",
      " [0.]\n",
      " [0.]\n",
      " [1.]\n",
      " [1.]\n",
      " [0.]\n",
      " [0.]]\n",
      "准确率 [0.70588235]\n"
     ]
    },
    {
     "data": {
      "image/png": "[encoded data removed]",
      "text/plain": [
       "<Figure size 432x288 with 1 Axes>"
      ]
     },
     "metadata": {
      "needs_background": "light"
     },
     "output_type": "display_data"
    }
   ],
   "source": [
    "y = np.array(y)\n",
    "data_label1 = xtrain[y == 1, :]\n",
    "data_label0 = xtrain[y == 0, :]\n",
    "print(data_label0)\n",
    "plt.scatter(data_label1[:, 0], data_label1[:, 1], c='r', marker='o')\n",
    "plt.scatter(data_label0[:, 0], data_label0[:, 1], c='b', marker='+')\n",
    "xtrain = np.hstack((xtrain, np.ones([len(y), 1])))\n",
    "#shape [N,1]\n",
    "ytrain = y.reshape(-1, 1)\n",
    "### 建模\n",
    "A = logodds_regress()\n",
    "beta = A.model(xtrain, ytrain, solver='gradient_descent')\n",
    "ypredict = A.predict(beta, xtrain)\n",
    "print('ypredict',ypredict)\n",
    "print('准确率', sum(ytrain == ypredict)/len(ytrain))\n",
    "###绘图直线方程w1x1+w2x2+b=0-->x2=-(w1x1+b)/w2\n",
    "ymin = -(beta[0, 0]*0.1 + beta[0, 2]) / beta[0, 1]\n",
    "ymax = -(beta[0, 0]*0.9 + beta[0, 2]) / beta[0, 1]\n",
    "plt.plot([0.1, 0.9], [ymin, ymax], 'k-')\n",
    "plt.xlabel('density')\n",
    "plt.ylabel('sugar rate')\n",
    "plt.title(\"logit regression\")\n",
    "plt.show()\n"
   ]
  }
 ],
 "metadata": {
  "interpreter": {
   "hash": "4eaf1be304415beee96765ae99c3f893cc8312c7f1196698e6029668e9aeb3e5"
  },
  "kernelspec": {
   "display_name": "Python 3.6.8 64-bit",
   "language": "python",
   "name": "python3"
  },
  "language_info": {
   "codemirror_mode": {
    "name": "ipython",
    "version": 3
   },
   "file_extension": ".py",
   "mimetype": "text/x-python",
   "name": "python",
   "nbconvert_exporter": "python",
   "pygments_lexer": "ipython3",
   "version": "3.6.8"
  },
  "orig_nbformat": 4
 },
 "nbformat": 4,
 "nbformat_minor": 2
}