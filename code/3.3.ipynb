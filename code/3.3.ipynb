{
 "cells": [
  {
   "cell_type": "markdown",
   "metadata": {},
   "source": [
    "[3.3]实现对率回归，给出西瓜数据集3.0a结果。"
   ]
  },
  {
   "cell_type": "code",
   "execution_count": 32,
   "metadata": {},
   "outputs": [],
   "source": [
    "import pandas as pd\n",
    "dataset = pd.read_csv('3.0a.csv')\n",
    "dataset\n",
    "x = dataset[[\"密度\", \"含糖率\"]]\n",
    "y = dataset['好瓜']\n",
    "good_melon = dataset[dataset['好瓜'] == 1]\n",
    "bad_melon = dataset[dataset['好瓜'] == 0]\n"
   ]
  },
  {
   "cell_type": "code",
   "execution_count": 45,
   "metadata": {},
   "outputs": [
    {
     "name": "stdout",
     "output_type": "stream",
     "text": [
      "       密度     含糖率\n",
      "0   0.697  0.4600\n",
      "1   0.774  0.3760\n",
      "2   0.634  0.2640\n",
      "3   0.608  0.3180\n",
      "4   0.556  0.2150\n",
      "5   0.403  0.2370\n",
      "6   0.481  0.1490\n",
      "7   0.437  0.2110\n",
      "8   0.666  0.0910\n",
      "9   0.243  0.0267\n",
      "10  0.245  0.0570\n",
      "11  0.343  0.0990\n",
      "12  0.639  0.1610\n",
      "13  0.657  0.1980\n",
      "14  0.360  0.3700\n",
      "15  0.593  0.0420\n",
      "16  0.719  0.1030\n"
     ]
    },
    {
     "name": "stderr",
     "output_type": "stream",
     "text": [
      "D:\\Python\\Python39\\lib\\site-packages\\seaborn\\_decorators.py:36: FutureWarning: Pass the following variables as keyword args: x, y. From version 0.12, the only valid positional argument will be `data`, and passing other arguments without an explicit keyword will result in an error or misinterpretation.\n",
      "  warnings.warn(\n",
      "D:\\Python\\Python39\\lib\\site-packages\\seaborn\\_decorators.py:36: FutureWarning: Pass the following variables as keyword args: x, y. From version 0.12, the only valid positional argument will be `data`, and passing other arguments without an explicit keyword will result in an error or misinterpretation.\n",
      "  warnings.warn(\n"
     ]
    },
    {
     "data": {
      "text/plain": [
       "<matplotlib.legend.Legend at 0x2823b49aa90>"
      ]
     },
     "execution_count": 45,
     "metadata": {},
     "output_type": "execute_result"
    },
    {
     "data": {
      "image/png": "[encoded data removed]",
      "text/plain": [
       "<Figure size 432x288 with 1 Axes>"
      ]
     },
     "metadata": {},
     "output_type": "display_data"
    }
   ],
   "source": [
    "import matplotlib.pyplot as plt\n",
    "import seaborn as sns\n",
    "sns.set(style=\"white\", color_codes=True)\n",
    "plt.rcParams['font.sans-serif']=['SimHei'] #用来正常显示中文标签\n",
    "plt.rcParams['axes.unicode_minus'] = False #用来正常显示负号\n",
    "print(x)\n",
    "f1 = plt.figure(1)\n",
    "plt.title('watermalon')\n",
    "plt.xlabel('密度')\n",
    "plt.ylabel('含糖率')\n",
    "plt.xlim(0, 1)\n",
    "plt.ylim(0, 1)\n",
    "sns.scatterplot(bad_melon[\"密度\"], bad_melon[\"含糖率\"],\n",
    "            marker='o', color='r', s=100, label='bad')\n",
    "sns.scatterplot(good_melon[\"密度\"], good_melon[\"含糖率\"],\n",
    "            marker='o', color='b', s=100, label='good')\n",
    "plt.legend(loc='upper right')\n"
   ]
  },
  {
   "cell_type": "code",
   "execution_count": 34,
   "metadata": {},
   "outputs": [
    {
     "name": "stdout",
     "output_type": "stream",
     "text": [
      "       密度    含糖率\n",
      "7   0.437  0.211\n",
      "16  0.719  0.103\n",
      "11  0.343  0.099\n",
      "3   0.608  0.318\n",
      "0   0.697  0.460\n",
      "5   0.403  0.237\n",
      "15  0.593  0.042\n",
      "12  0.639  0.161        密度     含糖率\n",
      "1   0.774  0.3760\n",
      "6   0.481  0.1490\n",
      "8   0.666  0.0910\n",
      "9   0.243  0.0267\n",
      "13  0.657  0.1980\n",
      "4   0.556  0.2150\n",
      "2   0.634  0.2640\n",
      "14  0.360  0.3700\n",
      "10  0.245  0.0570\n"
     ]
    }
   ],
   "source": [
    "from sklearn.model_selection import train_test_split\n",
    "from sklearn.linear_model import LogisticRegression\n",
    "from sklearn import metrics\n",
    "\n",
    "X_train, X_test,Y_train,Y_test = train_test_split(\n",
    "    x, y, test_size=0.5, random_state=0)\n",
    "print(X_train, X_test)\n"
   ]
  },
  {
   "cell_type": "code",
   "execution_count": 48,
   "metadata": {},
   "outputs": [
    {
     "name": "stdout",
     "output_type": "stream",
     "text": [
      "[[4 1]\n",
      " [1 3]]\n",
      "              precision    recall  f1-score   support\n",
      "\n",
      "           0       0.80      0.80      0.80         5\n",
      "           1       0.75      0.75      0.75         4\n",
      "\n",
      "    accuracy                           0.78         9\n",
      "   macro avg       0.78      0.78      0.78         9\n",
      "weighted avg       0.78      0.78      0.78         9\n",
      "\n",
      "[[-0.07509754  0.39827223]]\n",
      "[0.         0.01010101 0.02020202 0.03030303 0.04040404 0.05050505\n",
      " 0.06060606 0.07070707 0.08080808 0.09090909 0.1010101  0.11111111\n",
      " 0.12121212 0.13131313 0.14141414 0.15151515 0.16161616 0.17171717\n",
      " 0.18181818 0.19191919 0.2020202  0.21212121 0.22222222 0.23232323\n",
      " 0.24242424 0.25252525 0.26262626 0.27272727 0.28282828 0.29292929\n",
      " 0.3030303  0.31313131 0.32323232 0.33333333 0.34343434 0.35353535\n",
      " 0.36363636 0.37373737 0.38383838 0.39393939 0.4040404  0.41414141\n",
      " 0.42424242 0.43434343 0.44444444 0.45454545 0.46464646 0.47474747\n",
      " 0.48484848 0.49494949 0.50505051 0.51515152 0.52525253 0.53535354\n",
      " 0.54545455 0.55555556 0.56565657 0.57575758 0.58585859 0.5959596\n",
      " 0.60606061 0.61616162 0.62626263 0.63636364 0.64646465 0.65656566\n",
      " 0.66666667 0.67676768 0.68686869 0.6969697  0.70707071 0.71717172\n",
      " 0.72727273 0.73737374 0.74747475 0.75757576 0.76767677 0.77777778\n",
      " 0.78787879 0.7979798  0.80808081 0.81818182 0.82828283 0.83838384\n",
      " 0.84848485 0.85858586 0.86868687 0.87878788 0.88888889 0.8989899\n",
      " 0.90909091 0.91919192 0.92929293 0.93939394 0.94949495 0.95959596\n",
      " 0.96969697 0.97979798 0.98989899 1.        ]\n",
      "[-0.07509754 -0.07107459 -0.06705164 -0.06302869 -0.05900574 -0.05498279\n",
      " -0.05095983 -0.04693688 -0.04291393 -0.03889098 -0.03486803 -0.03084507\n",
      " -0.02682212 -0.02279917 -0.01877622 -0.01475327 -0.01073032 -0.00670736\n",
      " -0.00268441  0.00133854  0.00536149  0.00938444  0.0134074   0.01743035\n",
      "  0.0214533   0.02547625  0.0294992   0.03352215  0.03754511  0.04156806\n",
      "  0.04559101  0.04961396  0.05363691  0.05765986  0.06168282  0.06570577\n",
      "  0.06972872  0.07375167  0.07777462  0.08179758  0.08582053  0.08984348\n",
      "  0.09386643  0.09788938  0.10191233  0.10593529  0.10995824  0.11398119\n",
      "  0.11800414  0.12202709  0.12605005  0.130073    0.13409595  0.1381189\n",
      "  0.14214185  0.1461648   0.15018776  0.15421071  0.15823366  0.16225661\n",
      "  0.16627956  0.17030252  0.17432547  0.17834842  0.18237137  0.18639432\n",
      "  0.19041727  0.19444023  0.19846318  0.20248613  0.20650908  0.21053203\n",
      "  0.21455499  0.21857794  0.22260089  0.22662384  0.23064679  0.23466974\n",
      "  0.2386927   0.24271565  0.2467386   0.25076155  0.2547845   0.25880746\n",
      "  0.26283041  0.26685336  0.27087631  0.27489926  0.27892221  0.28294517\n",
      "  0.28696812  0.29099107  0.29501402  0.29903697  0.30305993  0.30708288\n",
      "  0.31110583  0.31512878  0.31915173  0.32317468]\n"
     ]
    },
    {
     "name": "stderr",
     "output_type": "stream",
     "text": [
      "D:\\Python\\Python39\\lib\\site-packages\\seaborn\\_decorators.py:36: FutureWarning: Pass the following variables as keyword args: x, y. From version 0.12, the only valid positional argument will be `data`, and passing other arguments without an explicit keyword will result in an error or misinterpretation.\n",
      "  warnings.warn(\n"
     ]
    },
    {
     "data": {
      "image/png": "[encoded data removed]",
      "text/plain": [
       "<Figure size 432x288 with 1 Axes>"
      ]
     },
     "metadata": {},
     "output_type": "display_data"
    }
   ],
   "source": [
    "import numpy as np\n",
    "\n",
    "\n",
    "def log_regression():\n",
    "    log_regression = LogisticRegression()\n",
    "    log_regression.fit(X_train, Y_train)\n",
    "    y_pred = log_regression.predict(X_test)\n",
    "    print(metrics.confusion_matrix(Y_test, y_pred))\n",
    "    print(metrics.classification_report(Y_test, y_pred))\n",
    "    print(log_regression.coef_)\n",
    "    theta1, theta2 = log_regression.coef_[0][0], log_regression.coef_[0][1]\n",
    "    x_pred = np.linspace(0, 1, 100)\n",
    "    print (x_pred)\n",
    "    line_pred = theta1+theta2*x_pred\n",
    "    print(line_pred)\n",
    "    sns.lineplot(x_pred, line_pred)\n",
    "    plt.show()\n",
    "    pass\n",
    "\n",
    "\n",
    "log_regression()\n"
   ]
  }
 ],
 "metadata": {
  "interpreter": {
   "hash": "fcf1d46d271c46101d6967829d4a5f475342a2ce08e4944f989fbcdc9bb23690"
  },
  "kernelspec": {
   "display_name": "Python 3.9.2 64-bit",
   "language": "python",
   "name": "python3"
  },
  "language_info": {
   "codemirror_mode": {
    "name": "ipython",
    "version": 3
   },
   "file_extension": ".py",
   "mimetype": "text/x-python",
   "name": "python",
   "nbconvert_exporter": "python",
   "pygments_lexer": "ipython3",
   "version": "3.9.2"
  },
  "orig_nbformat": 4
 },
 "nbformat": 4,
 "nbformat_minor": 2
}
