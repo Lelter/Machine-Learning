{
 "cells": [
  {
   "cell_type": "markdown",
   "metadata": {},
   "source": [
    " [3.5]实现线性判别分析，给出西瓜数据集3.0a的结果。    "
   ]
  },
  {
   "cell_type": "code",
   "execution_count": 109,
   "metadata": {},
   "outputs": [
    {
     "name": "stdout",
     "output_type": "stream",
     "text": [
      "      密度    含糖率\n",
      "0  0.697  0.460\n",
      "1  0.774  0.376\n",
      "2  0.634  0.264\n",
      "3  0.608  0.318\n",
      "4  0.556  0.215\n",
      "5  0.403  0.237\n",
      "6  0.481  0.149\n",
      "7  0.437  0.211\n"
     ]
    }
   ],
   "source": [
    "import pandas as pd\n",
    "dataset = pd.read_csv('3.0a.csv')\n",
    "del dataset['编号']\n",
    "x = dataset[[\"密度\", \"含糖率\"]]\n",
    "y = dataset['好瓜']\n",
    "good_melon = dataset[dataset['好瓜'] == 1]\n",
    "bad_melon = dataset[dataset['好瓜'] == 0]\n",
    "del good_melon['好瓜']\n",
    "del bad_melon['好瓜']\n",
    "\n",
    "print(good_melon)\n"
   ]
  },
  {
   "cell_type": "code",
   "execution_count": 110,
   "metadata": {},
   "outputs": [
    {
     "data": {
      "text/plain": [
       "(array([[0.49611111, 0.12752222]]), array([[0.57375, 0.27875]]))"
      ]
     },
     "execution_count": 110,
     "metadata": {},
     "output_type": "execute_result"
    }
   ],
   "source": [
    "import numpy as np\n",
    "good_melon=good_melon.values\n",
    "bad_melon=bad_melon.values\n",
    "miu0=np.mean(bad_melon,axis=0,keepdims=True)\n",
    "miu1=np.mean(good_melon,axis=0,keepdims=True)\n",
    "miu0,miu1\n"
   ]
  },
  {
   "cell_type": "code",
   "execution_count": 111,
   "metadata": {},
   "outputs": [
    {
     "data": {
      "text/plain": [
       "(array([[0.03791536, 0.00134467],\n",
       "        [0.00134467, 0.01126058]]),\n",
       " array([[0.01669536, 0.01026121],\n",
       "        [0.01026121, 0.01018564]]))"
      ]
     },
     "execution_count": 111,
     "metadata": {},
     "output_type": "execute_result"
    }
   ],
   "source": [
    "cov0=np.cov(bad_melon,rowvar=False)\n",
    "cov1=np.cov(good_melon,rowvar=False)\n",
    "cov0,cov1"
   ]
  },
  {
   "cell_type": "code",
   "execution_count": 112,
   "metadata": {},
   "outputs": [
    {
     "data": {
      "text/plain": [
       "(array([[0.05461072, 0.01160589],\n",
       "        [0.01160589, 0.02144622]]),\n",
       " array([[ 0.08689997],\n",
       "        [-7.09851492]]))"
      ]
     },
     "execution_count": 112,
     "metadata": {},
     "output_type": "execute_result"
    }
   ],
   "source": [
    "sw = cov1 + cov0\n",
    "    # 求得参数w\n",
    "swInv = np.linalg.inv(sw)\n",
    "omiga = np.dot(swInv, miu0.T - miu1.T)\n",
    "sw,omiga"
   ]
  },
  {
   "cell_type": "code",
   "execution_count": 113,
   "metadata": {},
   "outputs": [
    {
     "name": "stdout",
     "output_type": "stream",
     "text": [
      "[-0.2        -0.18585859 -0.17171717 -0.15757576 -0.14343434 -0.12929293\n",
      " -0.11515152 -0.1010101  -0.08686869 -0.07272727 -0.05858586 -0.04444444\n",
      " -0.03030303 -0.01616162 -0.0020202   0.01212121  0.02626263  0.04040404\n",
      "  0.05454545  0.06868687  0.08282828  0.0969697   0.11111111  0.12525253\n",
      "  0.13939394  0.15353535  0.16767677  0.18181818  0.1959596   0.21010101\n",
      "  0.22424242  0.23838384  0.25252525  0.26666667  0.28080808  0.29494949\n",
      "  0.30909091  0.32323232  0.33737374  0.35151515  0.36565657  0.37979798\n",
      "  0.39393939  0.40808081  0.42222222  0.43636364  0.45050505  0.46464646\n",
      "  0.47878788  0.49292929  0.50707071  0.52121212  0.53535354  0.54949495\n",
      "  0.56363636  0.57777778  0.59191919  0.60606061  0.62020202  0.63434343\n",
      "  0.64848485  0.66262626  0.67676768  0.69090909  0.70505051  0.71919192\n",
      "  0.73333333  0.74747475  0.76161616  0.77575758  0.78989899  0.8040404\n",
      "  0.81818182  0.83232323  0.84646465  0.86060606  0.87474747  0.88888889\n",
      "  0.9030303   0.91717172  0.93131313  0.94545455  0.95959596  0.97373737\n",
      "  0.98787879  1.0020202   1.01616162  1.03030303  1.04444444  1.05858586\n",
      "  1.07272727  1.08686869  1.1010101   1.11515152  1.12929293  1.14343434\n",
      "  1.15757576  1.17171717  1.18585859  1.2       ]\n",
      "[-2.44839852e-03 -2.27527943e-03 -2.10216035e-03 -1.92904126e-03\n",
      " -1.75592217e-03 -1.58280308e-03 -1.40968400e-03 -1.23656491e-03\n",
      " -1.06344582e-03 -8.90326735e-04 -7.17207647e-04 -5.44088560e-04\n",
      " -3.70969473e-04 -1.97850385e-04 -2.47312982e-05  1.48387789e-04\n",
      "  3.21506876e-04  4.94625964e-04  6.67745051e-04  8.40864138e-04\n",
      "  1.01398323e-03  1.18710231e-03  1.36022140e-03  1.53334049e-03\n",
      "  1.70645957e-03  1.87957866e-03  2.05269775e-03  2.22581684e-03\n",
      "  2.39893592e-03  2.57205501e-03  2.74517410e-03  2.91829319e-03\n",
      "  3.09141227e-03  3.26453136e-03  3.43765045e-03  3.61076953e-03\n",
      "  3.78388862e-03  3.95700771e-03  4.13012680e-03  4.30324588e-03\n",
      "  4.47636497e-03  4.64948406e-03  4.82260315e-03  4.99572223e-03\n",
      "  5.16884132e-03  5.34196041e-03  5.51507949e-03  5.68819858e-03\n",
      "  5.86131767e-03  6.03443676e-03  6.20755584e-03  6.38067493e-03\n",
      "  6.55379402e-03  6.72691311e-03  6.90003219e-03  7.07315128e-03\n",
      "  7.24627037e-03  7.41938945e-03  7.59250854e-03  7.76562763e-03\n",
      "  7.93874672e-03  8.11186580e-03  8.28498489e-03  8.45810398e-03\n",
      "  8.63122307e-03  8.80434215e-03  8.97746124e-03  9.15058033e-03\n",
      "  9.32369942e-03  9.49681850e-03  9.66993759e-03  9.84305668e-03\n",
      "  1.00161758e-02  1.01892949e-02  1.03624139e-02  1.05355330e-02\n",
      "  1.07086521e-02  1.08817712e-02  1.10548903e-02  1.12280094e-02\n",
      "  1.14011285e-02  1.15742475e-02  1.17473666e-02  1.19204857e-02\n",
      "  1.20936048e-02  1.22667239e-02  1.24398430e-02  1.26129621e-02\n",
      "  1.27860812e-02  1.29592002e-02  1.31323193e-02  1.33054384e-02\n",
      "  1.34785575e-02  1.36516766e-02  1.38247957e-02  1.39979148e-02\n",
      "  1.41710339e-02  1.43441529e-02  1.45172720e-02  1.46903911e-02]\n"
     ]
    },
    {
     "name": "stderr",
     "output_type": "stream",
     "text": [
      "D:\\Python\\Python39\\lib\\site-packages\\seaborn\\_decorators.py:36: FutureWarning: Pass the following variables as keyword args: x, y. From version 0.12, the only valid positional argument will be `data`, and passing other arguments without an explicit keyword will result in an error or misinterpretation.\n",
      "  warnings.warn(\n",
      "D:\\Python\\Python39\\lib\\site-packages\\seaborn\\_decorators.py:36: FutureWarning: Pass the following variables as keyword args: x, y. From version 0.12, the only valid positional argument will be `data`, and passing other arguments without an explicit keyword will result in an error or misinterpretation.\n",
      "  warnings.warn(\n"
     ]
    },
    {
     "data": {
      "text/plain": [
       "<AxesSubplot:xlabel='密度', ylabel='含糖率'>"
      ]
     },
     "execution_count": 113,
     "metadata": {},
     "output_type": "execute_result"
    },
    {
     "data": {
      "image/png": "[encoded data removed]",
      "text/plain": [
       "<Figure size 432x288 with 1 Axes>"
      ]
     },
     "metadata": {},
     "output_type": "display_data"
    }
   ],
   "source": [
    "import matplotlib.pyplot as plt\n",
    "import seaborn as sns\n",
    "sns.set_style(\"darkgrid\")\n",
    "\n",
    "plt.rcParams['font.sans-serif'] = ['SimHei']  # 用来正常显示中文标签\n",
    "plt.rcParams['axes.unicode_minus'] = False  # 用来正常显示负号\n",
    "sns.scatterplot('密度', '含糖率', data=dataset, hue='好瓜', style='好瓜')\n",
    "w = pd.DataFrame(columns=['x1', 'y1'])\n",
    "omiga = omiga.flatten()\n",
    "x1 = np.linspace(-0.2, 1.2, 100)\n",
    "y1 = -omiga[0] * x1 / omiga[1]\n",
    "w['x1']=x1\n",
    "w['y1']=y1\n",
    "print(x1)\n",
    "print(y1)\n",
    "# print(np.linspace(0, (-omiga[0] / omiga[1]),100))\n",
    "sns.lineplot('x1', 'y1', data=w)\n",
    "# sns.scatterplot(bad_melon['密度'],bad_melon['含糖率'],label='-',marker='_')\n"
   ]
  }
 ],
 "metadata": {
  "interpreter": {
   "hash": "fcf1d46d271c46101d6967829d4a5f475342a2ce08e4944f989fbcdc9bb23690"
  },
  "kernelspec": {
   "display_name": "Python 3.9.2 64-bit",
   "language": "python",
   "name": "python3"
  },
  "language_info": {
   "codemirror_mode": {
    "name": "ipython",
    "version": 3
   },
   "file_extension": ".py",
   "mimetype": "text/x-python",
   "name": "python",
   "nbconvert_exporter": "python",
   "pygments_lexer": "ipython3",
   "version": "3.9.2"
  },
  "orig_nbformat": 4
 },
 "nbformat": 4,
 "nbformat_minor": 2
}
