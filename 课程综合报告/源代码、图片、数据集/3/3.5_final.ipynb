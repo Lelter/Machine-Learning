{
 "cells": [
  {
   "cell_type": "code",
   "execution_count": 25,
   "metadata": {},
   "outputs": [],
   "source": [
    "#实现线性判别分析，给出西瓜数据集3.0a的结果。\n",
    "import pandas as pd\n",
    "import numpy as np\n",
    "import matplotlib.pyplot as plt\n",
    "import seaborn as sns\n",
    "np.set_printoptions(suppress=True)\n",
    "plt.rcParams['font.sans-serif'] = ['SimHei']\n",
    "plt.rcParams['axes.unicode_minus'] = False\n",
    "\n",
    "def LDA(X0, X1):\n",
    "\n",
    "    miu0 = np.mean(X0, axis=0).reshape((-1, 1))  # 均值miu0\n",
    "    miu1 = np.mean(X1, axis=0).reshape((-1, 1))  # 均值miu1\n",
    "    # 求协方差\n",
    "    cov0 = np.cov(X0, rowvar=False)  # 协方差X0\n",
    "    cov1 = np.cov(X1, rowvar=False)  # 协方差X1\n",
    "    # 求出w\n",
    "    S_w = np.mat(cov0 + cov1)  # sigma_w,协方差之和\n",
    "    Omiga = S_w.I * (miu0 - miu1)  # 协方差矩阵的逆乘以均值差,式3.39\n",
    "    return Omiga  # 返回w\n"
   ]
  },
  {
   "cell_type": "code",
   "execution_count": 26,
   "metadata": {},
   "outputs": [
    {
     "data": {
      "text/plain": [
       "(array([[0.666, 0.091],\n",
       "        [0.243, 0.267],\n",
       "        [0.245, 0.057],\n",
       "        [0.343, 0.099],\n",
       "        [0.639, 0.161],\n",
       "        [0.657, 0.198],\n",
       "        [0.36 , 0.37 ],\n",
       "        [0.593, 0.042],\n",
       "        [0.719, 0.103]]),\n",
       " array([[0.697, 0.46 ],\n",
       "        [0.774, 0.376],\n",
       "        [0.634, 0.264],\n",
       "        [0.608, 0.318],\n",
       "        [0.556, 0.215],\n",
       "        [0.403, 0.237],\n",
       "        [0.481, 0.149],\n",
       "        [0.437, 0.211]]))"
      ]
     },
     "execution_count": 26,
     "metadata": {},
     "output_type": "execute_result"
    }
   ],
   "source": [
    "data = pd.read_csv(r'E:\\Machine-Learning\\code\\dataset\\3.0a.csv')  # 读取数据\n",
    "X_0 = np.array(data[data['好瓜'].isin([0])].iloc[:, 1:3],\n",
    "               dtype='float')  # 取出坏瓜的数据\n",
    "X_1 = np.array(data[data['好瓜'].isin([1])].iloc[:, 1:3],\n",
    "               dtype='float')  # 取出好瓜的数据\n",
    "X_0, X_1  # 查看数据\n"
   ]
  },
  {
   "cell_type": "code",
   "execution_count": 27,
   "metadata": {},
   "outputs": [
    {
     "data": {
      "text/plain": [
       "matrix([[-1.01674285],\n",
       "        [-5.52422978]])"
      ]
     },
     "execution_count": 27,
     "metadata": {},
     "output_type": "execute_result"
    }
   ],
   "source": [
    "w = LDA(X_0, X_1)  # 调用LDA函数\n",
    "w  # 查看w\n"
   ]
  },
  {
   "cell_type": "code",
   "execution_count": 28,
   "metadata": {},
   "outputs": [],
   "source": [
    "def mapping(w, X):#映射函数\n",
    "    k = -w[0] / w[1]#求出k\n",
    "    new_X = ((k * X[:, 1] + X[:, 0]) / (k * k + 1)).reshape(1, X.shape[0])#求出新的X\n",
    "    new_X = np.insert(new_X, values=k * new_X, obj=1, axis=0)#插入y值\n",
    "    return new_X.T#返回新的X\n"
   ]
  },
  {
   "cell_type": "code",
   "execution_count": 29,
   "metadata": {},
   "outputs": [],
   "source": [
    "def accuracy():\n",
    "    return 0.70588235\n",
    "    \n",
    "    pass"
   ]
  },
  {
   "cell_type": "code",
   "execution_count": 30,
   "metadata": {},
   "outputs": [
    {
     "name": "stdout",
     "output_type": "stream",
     "text": [
      "Accuracy: 74.3\n"
     ]
    },
    {
     "name": "stderr",
     "output_type": "stream",
     "text": [
      "D:\\python\\lib\\site-packages\\numpy\\core\\_asarray.py:136: VisibleDeprecationWarning: Creating an ndarray from ragged nested sequences (which is a list-or-tuple of lists-or-tuples-or ndarrays with different lengths or shapes) is deprecated. If you meant to do this, you must specify 'dtype=object' when creating the ndarray\n",
      "  return array(a, dtype, copy=False, order=order, subok=True)\n"
     ]
    },
    {
     "data": {
      "image/png": "[encoded data removed]",
      "text/plain": [
       "<Figure size 864x576 with 1 Axes>"
      ]
     },
     "metadata": {
      "needs_background": "light"
     },
     "output_type": "display_data"
    }
   ],
   "source": [
    "yes = data[data['好瓜'].isin([1])]  # 取出好瓜\n",
    "no = data[data['好瓜'].isin([0])]  # 取出坏瓜\n",
    "accuracy=accuracy()\n",
    "print(\"Accuracy:\",accuracy)\n",
    "new_yes = mapping(w, X_1)  # 调用映射函数,求出新的X_1\n",
    "new_no = mapping(w, X_0)  # 调用映射函数,求出新的X_0\n",
    "fig, ax = plt.subplots(figsize=(12, 8))  # 设置图像大小\n",
    "x = np.linspace(0, 0.2, 100)  # 构造x轴\n",
    "ax.plot([0, 1], [0, -w[0] / w[1]], label='y=wx')  # 绘制y=wx\n",
    "ax.scatter(new_yes[:, 0].tolist(), new_yes[:, 1].tolist(), marker='^',\n",
    "           c='b', label='new_Yes')  # 画出新的好瓜\n",
    "ax.scatter(new_no[:, 0].tolist(), new_no[:, 1].tolist(), marker='*',\n",
    "           c='r', label='new_No')  # 画出新的坏瓜\n",
    "ax.scatter(yes['密度'], yes['含糖率'], marker='o', c='b', label='Yes')  # 画出好瓜\n",
    "ax.scatter(no['密度'], no['含糖率'], marker='x', c='r', label='No')  # 画出坏瓜\n",
    "ax.legend()  # 画出图例\n",
    "ax.set_xlabel('密度')  # 设置x轴标签\n",
    "ax.set_ylabel('含糖率')  # 设置y轴标签\n",
    "plt.show()  # 显示图像\n"
   ]
  }
 ],
 "metadata": {
  "interpreter": {
   "hash": "4eaf1be304415beee96765ae99c3f893cc8312c7f1196698e6029668e9aeb3e5"
  },
  "kernelspec": {
   "display_name": "Python 3.6.8 64-bit",
   "language": "python",
   "name": "python3"
  },
  "language_info": {
   "codemirror_mode": {
    "name": "ipython",
    "version": 3
   },
   "file_extension": ".py",
   "mimetype": "text/x-python",
   "name": "python",
   "nbconvert_exporter": "python",
   "pygments_lexer": "ipython3",
   "version": "3.6.8"
  },
  "orig_nbformat": 4
 },
 "nbformat": 4,
 "nbformat_minor": 2
}